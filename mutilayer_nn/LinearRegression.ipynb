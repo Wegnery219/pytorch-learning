{
 "cells": [
  {
   "cell_type": "markdown",
   "metadata": {},
   "source": [
    "# 线性模型"
   ]
  },
  {
   "cell_type": "code",
   "execution_count": 4,
   "metadata": {},
   "outputs": [
    {
     "data": {
      "image/png": "[encoded data removed]",
      "text/plain": [
       "<Figure size 432x288 with 1 Axes>"
      ]
     },
     "metadata": {},
     "output_type": "display_data"
    }
   ],
   "source": [
    "import numpy as np\n",
    "import matplotlib as mpl\n",
    "import matplotlib.pyplot as plt\n",
    "import torch\n",
    "from torch.autograd import Variable\n",
    "from torch import nn\n",
    "from torch import optim\n",
    "mpl.rcParams['xtick.labelsize'] = 24\n",
    "mpl.rcParams['ytick.labelsize'] = 24\n",
    "\n",
    "x = np.linspace(0, 5, 100)\n",
    " \n",
    "# 通过下面曲线加上噪声生成数据，所以拟合模型就用y了……\n",
    "\n",
    "x_train=np.array([[3.3],[4.4],[5.5],[6.71],[6.93],[4.168],[9.779],[6.182],[7.59],[2.167],[7.042],[10.791],[5.313],[7.997],[3.1]],dtype=np.float32)\n",
    "y_train=np.array([[1.7],[2.76],[2.09],[3.19],[1.694],[1.573],[3.366],[2.596],[2.53],[1.221],[2.827],[3.465],[1.65],[2.904],[1.3]],dtype=np.float32)\n",
    "# figure()指定图表名称\n",
    "plt.figure('data')\n",
    " \n",
    "# '.'标明画散点图，每个散点的形状是个圆\n",
    "plt.plot(x_train, y_train, '.')\n",
    " \n",
    "# scatter可以更容易地生成散点图\n",
    "plt.scatter(x_train, y_train)\n",
    "plt.savefig('result.png') \n",
    "# 一定要加上这句才能让画好的图显示在屏幕上\n",
    "plt.show()"
   ]
  },
  {
   "cell_type": "code",
   "execution_count": 5,
   "metadata": {},
   "outputs": [],
   "source": [
    "new_x=torch.from_numpy(x_train)\n",
    "new_y=torch.from_numpy(y_train)"
   ]
  },
  {
   "cell_type": "code",
   "execution_count": 6,
   "metadata": {},
   "outputs": [],
   "source": [
    "#define a model\n",
    "\n",
    "class LinearRegression(nn.Module):\n",
    "    def __init__(self):\n",
    "        super(LinearRegression,self).__init__()\n",
    "        self.linear=nn.Linear(1,1) #1 dimension\n",
    "    def forward(self,x):\n",
    "        out=self.linear(x)\n",
    "        return out\n",
    "#if torch.cuda.is_available():\n",
    "#    model=LinearRegression().cuda()\n",
    "#else:\n",
    "model=LinearRegression()\n"
   ]
  },
  {
   "cell_type": "code",
   "execution_count": 7,
   "metadata": {},
   "outputs": [],
   "source": [
    "criterion=nn.MSELoss()#误差\n",
    "optimizer=optim.SGD(model.parameters(),lr=1e-3)#lr是学习率"
   ]
  },
  {
   "cell_type": "code",
   "execution_count": 10,
   "metadata": {},
   "outputs": [
    {
     "name": "stdout",
     "output_type": "stream",
     "text": [
      "times[20/1000],loss:\n",
      " 0.1739\n",
      "[torch.FloatTensor of size 1]\n",
      "\n",
      "times[40/1000],loss:\n",
      " 0.1739\n",
      "[torch.FloatTensor of size 1]\n",
      "\n",
      "times[60/1000],loss:\n",
      " 0.1738\n",
      "[torch.FloatTensor of size 1]\n",
      "\n",
      "times[80/1000],loss:\n",
      " 0.1738\n",
      "[torch.FloatTensor of size 1]\n",
      "\n",
      "times[100/1000],loss:\n",
      " 0.1737\n",
      "[torch.FloatTensor of size 1]\n",
      "\n",
      "times[120/1000],loss:\n",
      " 0.1737\n",
      "[torch.FloatTensor of size 1]\n",
      "\n",
      "times[140/1000],loss:\n",
      " 0.1736\n",
      "[torch.FloatTensor of size 1]\n",
      "\n",
      "times[160/1000],loss:\n",
      " 0.1736\n",
      "[torch.FloatTensor of size 1]\n",
      "\n",
      "times[180/1000],loss:\n",
      " 0.1735\n",
      "[torch.FloatTensor of size 1]\n",
      "\n",
      "times[200/1000],loss:\n",
      " 0.1735\n",
      "[torch.FloatTensor of size 1]\n",
      "\n",
      "times[220/1000],loss:\n",
      " 0.1734\n",
      "[torch.FloatTensor of size 1]\n",
      "\n",
      "times[240/1000],loss:\n",
      " 0.1734\n",
      "[torch.FloatTensor of size 1]\n",
      "\n",
      "times[260/1000],loss:\n",
      " 0.1733\n",
      "[torch.FloatTensor of size 1]\n",
      "\n",
      "times[280/1000],loss:\n",
      " 0.1733\n",
      "[torch.FloatTensor of size 1]\n",
      "\n",
      "times[300/1000],loss:\n",
      " 0.1733\n",
      "[torch.FloatTensor of size 1]\n",
      "\n",
      "times[320/1000],loss:\n",
      " 0.1732\n",
      "[torch.FloatTensor of size 1]\n",
      "\n",
      "times[340/1000],loss:\n",
      " 0.1732\n",
      "[torch.FloatTensor of size 1]\n",
      "\n",
      "times[360/1000],loss:\n",
      " 0.1731\n",
      "[torch.FloatTensor of size 1]\n",
      "\n",
      "times[380/1000],loss:\n",
      " 0.1731\n",
      "[torch.FloatTensor of size 1]\n",
      "\n",
      "times[400/1000],loss:\n",
      " 0.1730\n",
      "[torch.FloatTensor of size 1]\n",
      "\n",
      "times[420/1000],loss:\n",
      " 0.1730\n",
      "[torch.FloatTensor of size 1]\n",
      "\n",
      "times[440/1000],loss:\n",
      " 0.1729\n",
      "[torch.FloatTensor of size 1]\n",
      "\n",
      "times[460/1000],loss:\n",
      " 0.1729\n",
      "[torch.FloatTensor of size 1]\n",
      "\n",
      "times[480/1000],loss:\n",
      " 0.1729\n",
      "[torch.FloatTensor of size 1]\n",
      "\n",
      "times[500/1000],loss:\n",
      " 0.1728\n",
      "[torch.FloatTensor of size 1]\n",
      "\n",
      "times[520/1000],loss:\n",
      " 0.1728\n",
      "[torch.FloatTensor of size 1]\n",
      "\n",
      "times[540/1000],loss:\n",
      " 0.1727\n",
      "[torch.FloatTensor of size 1]\n",
      "\n",
      "times[560/1000],loss:\n",
      " 0.1727\n",
      "[torch.FloatTensor of size 1]\n",
      "\n",
      "times[580/1000],loss:\n",
      " 0.1727\n",
      "[torch.FloatTensor of size 1]\n",
      "\n",
      "times[600/1000],loss:\n",
      " 0.1726\n",
      "[torch.FloatTensor of size 1]\n",
      "\n",
      "times[620/1000],loss:\n",
      " 0.1726\n",
      "[torch.FloatTensor of size 1]\n",
      "\n",
      "times[640/1000],loss:\n",
      " 0.1726\n",
      "[torch.FloatTensor of size 1]\n",
      "\n",
      "times[660/1000],loss:\n",
      " 0.1725\n",
      "[torch.FloatTensor of size 1]\n",
      "\n",
      "times[680/1000],loss:\n",
      " 0.1725\n",
      "[torch.FloatTensor of size 1]\n",
      "\n",
      "times[700/1000],loss:\n",
      " 0.1724\n",
      "[torch.FloatTensor of size 1]\n",
      "\n",
      "times[720/1000],loss:\n",
      " 0.1724\n",
      "[torch.FloatTensor of size 1]\n",
      "\n",
      "times[740/1000],loss:\n",
      " 0.1724\n",
      "[torch.FloatTensor of size 1]\n",
      "\n",
      "times[760/1000],loss:\n",
      " 0.1723\n",
      "[torch.FloatTensor of size 1]\n",
      "\n",
      "times[780/1000],loss:\n",
      " 0.1723\n",
      "[torch.FloatTensor of size 1]\n",
      "\n",
      "times[800/1000],loss:\n",
      " 0.1723\n",
      "[torch.FloatTensor of size 1]\n",
      "\n",
      "times[820/1000],loss:\n",
      " 0.1722\n",
      "[torch.FloatTensor of size 1]\n",
      "\n",
      "times[840/1000],loss:\n",
      " 0.1722\n",
      "[torch.FloatTensor of size 1]\n",
      "\n",
      "times[860/1000],loss:\n",
      " 0.1722\n",
      "[torch.FloatTensor of size 1]\n",
      "\n",
      "times[880/1000],loss:\n",
      " 0.1721\n",
      "[torch.FloatTensor of size 1]\n",
      "\n",
      "times[900/1000],loss:\n",
      " 0.1721\n",
      "[torch.FloatTensor of size 1]\n",
      "\n",
      "times[920/1000],loss:\n",
      " 0.1721\n",
      "[torch.FloatTensor of size 1]\n",
      "\n",
      "times[940/1000],loss:\n",
      " 0.1720\n",
      "[torch.FloatTensor of size 1]\n",
      "\n",
      "times[960/1000],loss:\n",
      " 0.1720\n",
      "[torch.FloatTensor of size 1]\n",
      "\n",
      "times[980/1000],loss:\n",
      " 0.1720\n",
      "[torch.FloatTensor of size 1]\n",
      "\n",
      "times[1000/1000],loss:\n",
      " 0.1719\n",
      "[torch.FloatTensor of size 1]\n",
      "\n"
     ]
    }
   ],
   "source": [
    "#train\n",
    "num_epochs=1000\n",
    "for epoch in range(num_epochs):\n",
    "#    if torch.cuda.is_available():\n",
    "#        inputs=Variable(new_x).cuda()\n",
    "#        target=Variable(new_y).cuda()\n",
    "#    else:\n",
    "    inputs=Variable(new_x)\n",
    "    target=Variable(new_y)\n",
    "    outs=model(inputs)\n",
    "    loss=criterion(outs,target)#误差最小\n",
    "    optimizer.zero_grad()#梯度归0\n",
    "    loss.backward()#反响传播\n",
    "    optimizer.step()#通过梯度做进一步参数更新\n",
    "    if (epoch+1)%20==0:\n",
    "        print('times[{}/{}],loss:{}'.format(epoch+1,num_epochs,loss.data))"
   ]
  },
  {
   "cell_type": "markdown",
   "metadata": {},
   "source": [
    "用cuda出现错误`Cuda runtime error (8) : invalid device function`凉凉 看来是GPU太老了 [link](https://discuss.pytorch.org/t/cuda-runtime-error-8-invalid-device-function/3584/5)，由结果可以看出，loss逐渐在减小.optimizer.zero_grad()是在归零梯度，否则梯度累加，不会收敛"
   ]
  },
  {
   "cell_type": "code",
   "execution_count": 11,
   "metadata": {},
   "outputs": [
    {
     "data": {
      "image/png": "[encoded data removed]",
      "text/plain": [
       "<Figure size 432x288 with 1 Axes>"
      ]
     },
     "metadata": {},
     "output_type": "display_data"
    }
   ],
   "source": [
    "#predict\n",
    "model.eval()#转换成测试模式\n",
    "model.cpu()\n",
    "predict=model(Variable(new_x))\n",
    "predict=predict.data.numpy()\n",
    "plt.plot(new_x.numpy(),new_y.numpy(),'ro',label='Original Data')\n",
    "plt.plot(new_x.numpy(),predict,label='fitting line')\n",
    "plt.show()"
   ]
  },
  {
   "cell_type": "markdown",
   "metadata": {},
   "source": [
    "## 多项式回归"
   ]
  },
  {
   "cell_type": "code",
   "execution_count": 16,
   "metadata": {},
   "outputs": [],
   "source": [
    "def make_features(x):\n",
    "    x=x.unsqueeze(1)\n",
    "    return torch.cat([x**i for i in range(1,4)],1)\n",
    "W_target=torch.FloatTensor([0.5,3,2.4]).unsqueeze(1)#原来是size为3,现在是3×1\n",
    "b_target=torch.FloatTensor([0.9])"
   ]
  },
  {
   "cell_type": "code",
   "execution_count": 30,
   "metadata": {},
   "outputs": [],
   "source": [
    "def f(x):\n",
    "    return x.mm(W_target)+b_target[0]#目标函数\n",
    "\n",
    "#构建训练集\n",
    "def get_batch(batch_size=32):\n",
    "    random=torch.randn(batch_size)\n",
    "    x=make_features(random)\n",
    "    y=f(x)\n",
    "    return Variable(x),Variable(y)"
   ]
  },
  {
   "cell_type": "code",
   "execution_count": 19,
   "metadata": {},
   "outputs": [],
   "source": [
    "#定义模型\n",
    "class poly_model(nn.Module):\n",
    "    def __init__(self):\n",
    "        super(poly_model,self).__init__()\n",
    "        self.poly=nn.Linear(3,1)\n",
    "    def forward(self,x):\n",
    "        out=self.poly(x)\n",
    "        return out\n",
    "model=poly_model()\n",
    "criterion=nn.MSELoss()\n",
    "optimizer=optim.SGD(model.parameters(),lr=1e-3)"
   ]
  },
  {
   "cell_type": "code",
   "execution_count": 25,
   "metadata": {},
   "outputs": [],
   "source": [
    "epoch=0\n",
    "while True:\n",
    "    batch_x,batch_y=get_batch()\n",
    "    output=model(batch_x)\n",
    "    loss=criterion(output,batch_y)\n",
    "    print_loss=loss.data[0]\n",
    "    optimizer.zero_grad()\n",
    "    loss.backward()\n",
    "    optimizer.step()\n",
    "    epoch+=1\n",
    "    if print_loss<1e-3:\n",
    "        break"
   ]
  },
  {
   "cell_type": "code",
   "execution_count": 34,
   "metadata": {},
   "outputs": [
    {
     "data": {
      "image/png": "[encoded data removed]",
      "text/plain": [
       "<Figure size 432x288 with 1 Axes>"
      ]
     },
     "metadata": {},
     "output_type": "display_data"
    }
   ],
   "source": [
    "model.eval()\n",
    "model.cpu()\n",
    "x_test = np.linspace(-5,5,50).astype(np.float32)\n",
    "y_test = 0.9+0.5*x_test+np.square(x_test)*3+np.power(x_test,3)*2.4\n",
    "predict=model(Variable(make_features(torch.from_numpy(x_test))))\n",
    "predict=predict.data.numpy()\n",
    "plt.plot(x_test,y_test,'ro',label='Original Data')\n",
    "plt.plot(x_test,predict,label='fitting line')\n",
    "plt.show()"
   ]
  },
  {
   "cell_type": "markdown",
   "metadata": {},
   "source": [
    "### Summary\n",
    "拟合效果非常好，但是由于我的cuda可能版本有问题，暂时无法用.cuda(),不过先学着，等用到数据大的再重新装好了。"
   ]
  }
 ],
 "metadata": {
  "kernelspec": {
   "display_name": "Python 2",
   "language": "python",
   "name": "python2"
  },
  "language_info": {
   "codemirror_mode": {
    "name": "ipython",
    "version": 2
   },
   "file_extension": ".py",
   "mimetype": "text/x-python",
   "name": "python",
   "nbconvert_exporter": "python",
   "pygments_lexer": "ipython2",
   "version": "2.7.15"
  }
 },
 "nbformat": 4,
 "nbformat_minor": 2
}

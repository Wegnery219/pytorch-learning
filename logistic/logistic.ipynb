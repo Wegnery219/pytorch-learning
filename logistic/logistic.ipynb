{
 "cells": [
  {
   "cell_type": "markdown",
   "metadata": {},
   "source": [
    "# Logistic\n",
    "处理分类问题，通过logidtic分布得出回归函数，再通过极大似然估计得出对数似然函数，然后就可以用梯度求似然函数的最大值了。"
   ]
  },
  {
   "cell_type": "code",
   "execution_count": 9,
   "metadata": {},
   "outputs": [],
   "source": [
    "import numpy as np\n",
    "import matplotlib as mpl\n",
    "from matplotlib import pyplot as plt\n",
    "import torch\n",
    "from torch.autograd import Variable\n",
    "from torch import nn\n",
    "from torch import optim"
   ]
  },
  {
   "cell_type": "code",
   "execution_count": 10,
   "metadata": {},
   "outputs": [],
   "source": [
    "with open('data.txt','r') as f:\n",
    "    data_list=f.readlines()\n",
    "    data_list=[i.split('\\n')[0] for i in data_list]\n",
    "    data_list=[i.split(',') for i in data_list]\n",
    "    data=[(float(i[0]),float(i[1]),float(i[2])) for i in data_list]\n",
    "    np_data=np.array(data,dtype='float32')\n",
    "    x_data=torch.from_numpy(np_data[:,0:2])\n",
    "    y_data=torch.from_numpy(np_data[:,-1]).unsqueeze(1)\n",
    "    "
   ]
  },
  {
   "cell_type": "code",
   "execution_count": 11,
   "metadata": {},
   "outputs": [
    {
     "data": {
      "text/plain": [
       "<matplotlib.legend.Legend at 0x7f68f0ffd550>"
      ]
     },
     "execution_count": 11,
     "metadata": {},
     "output_type": "execute_result"
    },
    {
     "data": {
      "image/png": "[encoded data removed]",
      "text/plain": [
       "<Figure size 432x288 with 1 Axes>"
      ]
     },
     "metadata": {},
     "output_type": "display_data"
    }
   ],
   "source": [
    "#draw\n",
    "x0=list(filter(lambda x:x[-1]==0.0,data))\n",
    "x1=list(filter(lambda x:x[-1]==1.0,data))#分类\n",
    "plot_x0_x=[i[0] for i in x0]\n",
    "plot_x0_y=[i[1] for i in x0]\n",
    "plot_x1_x=[i[0] for i in x1]\n",
    "plot_x1_y=[i[1] for i in x1]\n",
    "plt.plot(plot_x0_x,plot_x0_y,'ro',label='0')\n",
    "plt.plot(plot_x1_x,plot_x1_y,'bo',label='1')\n",
    "plt.legend(loc='best')"
   ]
  },
  {
   "cell_type": "code",
   "execution_count": 18,
   "metadata": {},
   "outputs": [
    {
     "name": "stdout",
     "output_type": "stream",
     "text": [
      "times[2000/1000],loss:0.535794794559\n",
      "times[4000/1000],loss:0.479932010174\n",
      "times[6000/1000],loss:0.438866019249\n",
      "times[8000/1000],loss:0.407783538103\n",
      "times[10000/1000],loss:0.383589297533\n"
     ]
    }
   ],
   "source": [
    "#definite model\n",
    "class LogisticRegression(nn.Module):\n",
    "    def __init__(self):\n",
    "        super(LogisticRegression,self).__init__()\n",
    "        self.lr=nn.Linear(2,1)\n",
    "        self.sm=nn.Sigmoid()\n",
    "    def forward(self,x):\n",
    "        x=self.lr(x)\n",
    "        x=self.sm(x)\n",
    "        return x\n",
    "model=LogisticRegression()\n",
    "criterion=nn.BCELoss()#二分类的损失函数 \n",
    "optimizer=torch.optim.SGD(model.parameters(),lr=1e-3,momentum=0.9)#动量是0.9\n",
    "for epoch in range(10000):\n",
    "    new_x=Variable(x_data)\n",
    "    new_y=Variable(y_data)\n",
    "    predict=model(new_x)\n",
    "    loss=criterion(predict,new_y)\n",
    "    optimizer.zero_grad()\n",
    "    loss.backward()\n",
    "    optimizer.step()\n",
    "    if (epoch+1)%2000==0:\n",
    "        print('times[{}/{}],loss:{}'.format(epoch+1,1000,loss.data[0]))"
   ]
  },
  {
   "cell_type": "code",
   "execution_count": 56,
   "metadata": {},
   "outputs": [
    {
     "name": "stdout",
     "output_type": "stream",
     "text": [
      "0.046150226146 0.0390976183116 -4.92696380615\n"
     ]
    },
    {
     "data": {
      "image/png": "[encoded data removed]",
      "text/plain": [
       "<Figure size 432x288 with 1 Axes>"
      ]
     },
     "metadata": {},
     "output_type": "display_data"
    }
   ],
   "source": [
    "model.eval()\n",
    "model.cpu()\n",
    "predict=model(Variable(torch.from_numpy(np_data[:,0:2])))\n",
    "for p in model.parameters():\n",
    "    break\n",
    "w=p[0].data[0]\n",
    "b=p[0].data[1]\n",
    "times=0;\n",
    "for p in model.parameters():\n",
    "    if times==1:\n",
    "        break\n",
    "    else:\n",
    "        times=times+1\n",
    "w1=p[0].data[0]\n",
    "print w,b,w1\n",
    "plot_x = np.arange(0.2, 1, 0.01)\n",
    "plot_y = -w * plot_x - b\n",
    "plt.plot(plot_x0_x,plot_x0_y,'ro',label='0')\n",
    "plt.plot(plot_x1_x,plot_x1_y,'bo',label='1')\n",
    "plt.plot(plot_x*100,plot_y*100,'g',label='fitting line')\n",
    "plt.show()"
   ]
  },
  {
   "cell_type": "markdown",
   "metadata": {},
   "source": [
    "### Summary\n",
    "忘记带书来教室了，回去看看为啥画的线一直是错的。感觉对模型会使用了，但是对含义还是不是很理解，明天看看官方手册。"
   ]
  }
 ],
 "metadata": {
  "kernelspec": {
   "display_name": "Python 2",
   "language": "python",
   "name": "python2"
  },
  "language_info": {
   "codemirror_mode": {
    "name": "ipython",
    "version": 2
   },
   "file_extension": ".py",
   "mimetype": "text/x-python",
   "name": "python",
   "nbconvert_exporter": "python",
   "pygments_lexer": "ipython2",
   "version": "2.7.15"
  }
 },
 "nbformat": 4,
 "nbformat_minor": 2
}

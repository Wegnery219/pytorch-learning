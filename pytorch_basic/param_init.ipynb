{
 "cells": [
  {
   "cell_type": "markdown",
   "metadata": {},
   "source": [
    "# param-init"
   ]
  },
  {
   "cell_type": "markdown",
   "metadata": {},
   "source": [
    "感觉对这个模型的使用还是很生，只知道了大体的过程。今天学一下怎么自动初始化参数模型。"
   ]
  },
  {
   "cell_type": "code",
   "execution_count": 1,
   "metadata": {},
   "outputs": [],
   "source": [
    "import numpy as np\n",
    "import torch\n",
    "from torch import nn"
   ]
  },
  {
   "cell_type": "code",
   "execution_count": 4,
   "metadata": {},
   "outputs": [],
   "source": [
    "net1=nn.Sequential(\n",
    "    nn.Linear(30,40),\n",
    "    nn.ReLU(),\n",
    "    nn.Linear(40,50),\n",
    "    nn.ReLU(),\n",
    "    nn.Linear(50,10)\n",
    ")"
   ]
  },
  {
   "cell_type": "code",
   "execution_count": 7,
   "metadata": {},
   "outputs": [
    {
     "name": "stdout",
     "output_type": "stream",
     "text": [
      "Parameter containing:\n",
      "-0.0535  0.0829  0.0784  ...   0.0960 -0.0120  0.0591\n",
      "-0.1428  0.1791  0.0588  ...   0.1737 -0.0497 -0.0645\n",
      " 0.1438  0.1387  0.0505  ...   0.0693  0.0817  0.0894\n",
      "          ...             ⋱             ...          \n",
      "-0.0631  0.0044  0.1578  ...  -0.0851 -0.0106 -0.1699\n",
      "-0.0895 -0.1646 -0.1489  ...  -0.0211 -0.0144 -0.0165\n",
      " 0.0547  0.0959 -0.0380  ...   0.0475  0.0234  0.0513\n",
      "[torch.FloatTensor of size 40x30]\n",
      "\n"
     ]
    }
   ],
   "source": [
    "w1=net1[0].weight\n",
    "b1=net1[0].bias\n",
    "print(w1)"
   ]
  },
  {
   "cell_type": "markdown",
   "metadata": {},
   "source": [
    "net.weight.data可以赋值，用tensor类型赋值"
   ]
  },
  {
   "cell_type": "code",
   "execution_count": 9,
   "metadata": {},
   "outputs": [
    {
     "name": "stdout",
     "output_type": "stream",
     "text": [
      "Parameter containing:\n",
      " 4.9939  3.3346  4.1735  ...   4.2062  4.3881  3.8105\n",
      " 3.9910  4.5676  3.3322  ...   4.6725  4.0798  3.8372\n",
      " 3.5112  4.9891  4.2573  ...   3.5003  3.4784  4.9560\n",
      "          ...             ⋱             ...          \n",
      " 3.7719  3.4358  3.0875  ...   4.3238  4.5484  3.5932\n",
      " 3.8501  3.8932  4.0726  ...   4.9563  3.0169  4.7087\n",
      " 4.3198  4.3361  3.7862  ...   4.1611  4.9641  3.7846\n",
      "[torch.DoubleTensor of size 40x30]\n",
      "\n"
     ]
    }
   ],
   "source": [
    "net1[0].weight.data=torch.from_numpy(np.random.uniform(3,5,size=(40,30)))\n",
    "print(net1[0].weight)"
   ]
  },
  {
   "cell_type": "markdown",
   "metadata": {},
   "source": [
    "module的参数初始化，children与modules属性"
   ]
  },
  {
   "cell_type": "code",
   "execution_count": 12,
   "metadata": {},
   "outputs": [],
   "source": [
    " class nets(nn.Module):\n",
    "    def __init__(self):\n",
    "        super(nets,self).__init__()\n",
    "        self.l1=nn.Sequential(\n",
    "            nn.Linear(30,40),\n",
    "            nn.ReLU()\n",
    "        )\n",
    "        self.l1[0].weight.data=torch.randn(40,30)\n",
    "        self.l2=nn.Sequential(\n",
    "            nn.Linear(40,50),\n",
    "            nn.ReLU()\n",
    "        )\n",
    "        self.l3=nn.Sequential(\n",
    "            nn.Linear(50,10),\n",
    "            nn.ReLU()\n",
    "        )\n",
    "        \n",
    "    def forward(self,x):\n",
    "        x=self.l1(x)\n",
    "        x=self.l2(x)\n",
    "        x=self.l3(x)\n",
    "        return x"
   ]
  },
  {
   "cell_type": "code",
   "execution_count": 13,
   "metadata": {},
   "outputs": [],
   "source": [
    "net2=nets()"
   ]
  },
  {
   "cell_type": "code",
   "execution_count": 16,
   "metadata": {},
   "outputs": [
    {
     "name": "stdout",
     "output_type": "stream",
     "text": [
      "Sequential(\n",
      "  (0): Linear(in_features=30, out_features=40, bias=True)\n",
      "  (1): ReLU()\n",
      ")\n",
      "Sequential(\n",
      "  (0): Linear(in_features=40, out_features=50, bias=True)\n",
      "  (1): ReLU()\n",
      ")\n",
      "Sequential(\n",
      "  (0): Linear(in_features=50, out_features=10, bias=True)\n",
      "  (1): ReLU()\n",
      ")\n"
     ]
    }
   ],
   "source": [
    "for i in net2.children():\n",
    "    print i"
   ]
  },
  {
   "cell_type": "code",
   "execution_count": 19,
   "metadata": {},
   "outputs": [
    {
     "name": "stdout",
     "output_type": "stream",
     "text": [
      "1th layer\n",
      "nets(\n",
      "  (l1): Sequential(\n",
      "    (0): Linear(in_features=30, out_features=40, bias=True)\n",
      "    (1): ReLU()\n",
      "  )\n",
      "  (l2): Sequential(\n",
      "    (0): Linear(in_features=40, out_features=50, bias=True)\n",
      "    (1): ReLU()\n",
      "  )\n",
      "  (l3): Sequential(\n",
      "    (0): Linear(in_features=50, out_features=10, bias=True)\n",
      "    (1): ReLU()\n",
      "  )\n",
      ")\n",
      "2th layer\n",
      "Sequential(\n",
      "  (0): Linear(in_features=30, out_features=40, bias=True)\n",
      "  (1): ReLU()\n",
      ")\n",
      "3th layer\n",
      "Linear(in_features=30, out_features=40, bias=True)\n",
      "4th layer\n",
      "ReLU()\n",
      "5th layer\n",
      "Sequential(\n",
      "  (0): Linear(in_features=40, out_features=50, bias=True)\n",
      "  (1): ReLU()\n",
      ")\n",
      "6th layer\n",
      "Linear(in_features=40, out_features=50, bias=True)\n",
      "7th layer\n",
      "ReLU()\n",
      "8th layer\n",
      "Sequential(\n",
      "  (0): Linear(in_features=50, out_features=10, bias=True)\n",
      "  (1): ReLU()\n",
      ")\n",
      "9th layer\n",
      "Linear(in_features=50, out_features=10, bias=True)\n",
      "10th layer\n",
      "ReLU()\n"
     ]
    }
   ],
   "source": [
    "times=0\n",
    "for i in net2.modules():\n",
    "    times=times+1\n",
    "    print (\"{}th layer\".format(times))\n",
    "    print i\n",
    "    "
   ]
  },
  {
   "cell_type": "markdown",
   "metadata": {},
   "source": [
    "modules会访问到Sequential 中的每一层"
   ]
  },
  {
   "cell_type": "markdown",
   "metadata": {},
   "source": [
    "# torch.nn.init"
   ]
  },
  {
   "cell_type": "markdown",
   "metadata": {},
   "source": [
    "torch.nn.init是torch内置的一种初始化方法，内置了许多方法，比如xavier,xavier方法初始化使每一层方差差不多相等."
   ]
  },
  {
   "cell_type": "code",
   "execution_count": 21,
   "metadata": {},
   "outputs": [
    {
     "name": "stdout",
     "output_type": "stream",
     "text": [
      "Parameter containing:\n",
      " 4.9939  3.3346  4.1735  ...   4.2062  4.3881  3.8105\n",
      " 3.9910  4.5676  3.3322  ...   4.6725  4.0798  3.8372\n",
      " 3.5112  4.9891  4.2573  ...   3.5003  3.4784  4.9560\n",
      "          ...             ⋱             ...          \n",
      " 3.7719  3.4358  3.0875  ...   4.3238  4.5484  3.5932\n",
      " 3.8501  3.8932  4.0726  ...   4.9563  3.0169  4.7087\n",
      " 4.3198  4.3361  3.7862  ...   4.1611  4.9641  3.7846\n",
      "[torch.DoubleTensor of size 40x30]\n",
      "\n"
     ]
    }
   ],
   "source": [
    "from torch.nn import init\n",
    "print (net1[0].weight)"
   ]
  },
  {
   "cell_type": "code",
   "execution_count": 22,
   "metadata": {},
   "outputs": [
    {
     "data": {
      "text/plain": [
       "Parameter containing:\n",
       "-0.0212 -0.0344 -0.2210  ...  -0.2592  0.0384  0.0736\n",
       " 0.2183 -0.0952  0.1968  ...  -0.1184  0.2106 -0.0716\n",
       " 0.0197 -0.2801 -0.0715  ...   0.0121 -0.2503 -0.0377\n",
       "          ...             ⋱             ...          \n",
       "-0.1674  0.1011  0.1595  ...   0.2303 -0.2367  0.1490\n",
       "-0.1702 -0.2873 -0.1055  ...   0.2096  0.1936  0.2441\n",
       " 0.2132 -0.2794 -0.0246  ...  -0.2487  0.0955 -0.0741\n",
       "[torch.DoubleTensor of size 40x30]"
      ]
     },
     "execution_count": 22,
     "metadata": {},
     "output_type": "execute_result"
    }
   ],
   "source": [
    "init.xavier_uniform(net1[0].weight)"
   ]
  },
  {
   "cell_type": "markdown",
   "metadata": {},
   "source": [
    "参数已经被修改。"
   ]
  }
 ],
 "metadata": {
  "kernelspec": {
   "display_name": "Python 2",
   "language": "python",
   "name": "python2"
  },
  "language_info": {
   "codemirror_mode": {
    "name": "ipython",
    "version": 2
   },
   "file_extension": ".py",
   "mimetype": "text/x-python",
   "name": "python",
   "nbconvert_exporter": "python",
   "pygments_lexer": "ipython2",
   "version": "2.7.15"
  }
 },
 "nbformat": 4,
 "nbformat_minor": 2
}

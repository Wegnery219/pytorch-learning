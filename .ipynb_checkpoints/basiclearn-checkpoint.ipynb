{
 "cells": [
  {
   "cell_type": "code",
   "execution_count": 5,
   "metadata": {},
   "outputs": [],
   "source": [
    "import torch"
   ]
  },
  {
   "cell_type": "code",
   "execution_count": 2,
   "metadata": {},
   "outputs": [
    {
     "name": "stdout",
     "output_type": "stream",
     "text": [
      "\n",
      " 2.6213e-09  3.0880e-41 -6.9461e-22\n",
      " 4.5859e-41 -6.8030e-22  4.5859e-41\n",
      " 1.2742e-09  3.0880e-41  1.2742e-09\n",
      " 3.0880e-41 -5.4658e-15  4.5859e-41\n",
      "-6.6892e-22  4.5859e-41 -6.6892e-22\n",
      "[torch.FloatTensor of size 5x3]\n",
      "\n"
     ]
    }
   ],
   "source": [
    "x=torch.Tensor(5,3)\n",
    "print(x)"
   ]
  },
  {
   "cell_type": "markdown",
   "metadata": {},
   "source": [
    "随机初始化矩阵"
   ]
  },
  {
   "cell_type": "code",
   "execution_count": 3,
   "metadata": {},
   "outputs": [
    {
     "name": "stdout",
     "output_type": "stream",
     "text": [
      "a is:\n",
      " 2  3\n",
      " 4  8\n",
      " 4  7\n",
      "[torch.FloatTensor of size 3x2]\n",
      "\n",
      "a size istorch.Size([3, 2])\n"
     ]
    }
   ],
   "source": [
    "a=torch.Tensor([[2,3],[4,8],[4,7]])\n",
    "print('a is:{}'.format(a))\n",
    "print('a size is{}'.format(a.size()))"
   ]
  },
  {
   "cell_type": "code",
   "execution_count": 8,
   "metadata": {},
   "outputs": [
    {
     "name": "stdout",
     "output_type": "stream",
     "text": [
      "a is :\n",
      " 2  3\n",
      " 4  8\n",
      " 4  7\n",
      "[torch.LongTensor of size 3x2]\n",
      "\n",
      "new a is:\n",
      "   2  100\n",
      "   4    8\n",
      "   4    7\n",
      "[torch.LongTensor of size 3x2]\n",
      "\n"
     ]
    }
   ],
   "source": [
    "a=torch.LongTensor([[2,3],[4,8],[4,7]])\n",
    "print('a is :{}'.format(a))\n",
    "a[0,1]=100\n",
    "print('new a is:{}'.format(a))"
   ]
  },
  {
   "cell_type": "code",
   "execution_count": 3,
   "metadata": {},
   "outputs": [
    {
     "name": "stdout",
     "output_type": "stream",
     "text": [
      "\n",
      " 0.3131  0.2971  0.1192\n",
      " 0.3277  0.1469  0.8987\n",
      " 0.9717  0.6556  0.0266\n",
      " 0.2831  0.9307  0.4036\n",
      " 0.7128  0.5255  0.3762\n",
      "[torch.FloatTensor of size 5x3]\n",
      "\n"
     ]
    }
   ],
   "source": [
    "x=torch.rand(5,3)\n",
    "print(x)"
   ]
  },
  {
   "cell_type": "code",
   "execution_count": 4,
   "metadata": {},
   "outputs": [
    {
     "name": "stdout",
     "output_type": "stream",
     "text": [
      "torch.Size([5, 3])\n"
     ]
    }
   ],
   "source": [
    "print(x.size())"
   ]
  },
  {
   "cell_type": "markdown",
   "metadata": {},
   "source": [
    "#### Operations运算"
   ]
  },
  {
   "cell_type": "code",
   "execution_count": 6,
   "metadata": {},
   "outputs": [
    {
     "name": "stdout",
     "output_type": "stream",
     "text": [
      "\n",
      " 0.5241  0.6272  0.9633\n",
      " 0.3065  0.2082  0.1616\n",
      " 0.9734  0.5337  0.5812\n",
      " 0.2415  0.8136  0.5416\n",
      " 0.3037  0.1478  0.8749\n",
      "[torch.FloatTensor of size 5x3]\n",
      "\n",
      "\n",
      " 0.8372  0.9243  1.0825\n",
      " 0.6342  0.3551  1.0602\n",
      " 1.9451  1.1893  0.6077\n",
      " 0.5246  1.7443  0.9452\n",
      " 1.0165  0.6734  1.2511\n",
      "[torch.FloatTensor of size 5x3]\n",
      "\n"
     ]
    }
   ],
   "source": [
    "y=torch.rand(5,3)\n",
    "print y\n",
    "print(x+y)"
   ]
  },
  {
   "cell_type": "code",
   "execution_count": 7,
   "metadata": {},
   "outputs": [
    {
     "name": "stdout",
     "output_type": "stream",
     "text": [
      "\n",
      " 0.8372  0.9243  1.0825\n",
      " 0.6342  0.3551  1.0602\n",
      " 1.9451  1.1893  0.6077\n",
      " 0.5246  1.7443  0.9452\n",
      " 1.0165  0.6734  1.2511\n",
      "[torch.FloatTensor of size 5x3]\n",
      "\n"
     ]
    }
   ],
   "source": [
    "print torch.add(x,y)"
   ]
  },
  {
   "cell_type": "markdown",
   "metadata": {},
   "source": [
    "任何原地改变tensor的运算后边会后缀一个“_”,例如：x.copy_(y),x.t_(),会改变x的值。"
   ]
  },
  {
   "cell_type": "code",
   "execution_count": 8,
   "metadata": {},
   "outputs": [
    {
     "name": "stdout",
     "output_type": "stream",
     "text": [
      "\n",
      " 0.8372  0.9243  1.0825\n",
      " 0.6342  0.3551  1.0602\n",
      " 1.9451  1.1893  0.6077\n",
      " 0.5246  1.7443  0.9452\n",
      " 1.0165  0.6734  1.2511\n",
      "[torch.FloatTensor of size 5x3]\n",
      "\n"
     ]
    }
   ],
   "source": [
    "y.add_(x)\n",
    "print(y)"
   ]
  },
  {
   "cell_type": "code",
   "execution_count": 9,
   "metadata": {},
   "outputs": [
    {
     "name": "stdout",
     "output_type": "stream",
     "text": [
      "\n",
      " 0.9243\n",
      " 0.3551\n",
      " 1.1893\n",
      " 1.7443\n",
      " 0.6734\n",
      "[torch.FloatTensor of size 5]\n",
      "\n"
     ]
    }
   ],
   "source": [
    "print(y[:,1])"
   ]
  },
  {
   "cell_type": "markdown",
   "metadata": {},
   "source": [
    "#### 与numpy之间的转换"
   ]
  },
  {
   "cell_type": "code",
   "execution_count": 10,
   "metadata": {},
   "outputs": [
    {
     "name": "stdout",
     "output_type": "stream",
     "text": [
      "\n",
      " 1\n",
      " 1\n",
      " 1\n",
      " 1\n",
      " 1\n",
      "[torch.FloatTensor of size 5]\n",
      "\n",
      "[1. 1. 1. 1. 1.]\n"
     ]
    }
   ],
   "source": [
    "a=torch.ones(5)\n",
    "print(a)\n",
    "b=a.numpy()\n",
    "print(b)"
   ]
  },
  {
   "cell_type": "code",
   "execution_count": 11,
   "metadata": {},
   "outputs": [
    {
     "name": "stdout",
     "output_type": "stream",
     "text": [
      "\n",
      " 2\n",
      " 2\n",
      " 2\n",
      " 2\n",
      " 2\n",
      "[torch.FloatTensor of size 5]\n",
      "\n",
      "[2. 2. 2. 2. 2.]\n"
     ]
    }
   ],
   "source": [
    "a.add_(1)\n",
    "print(a)\n",
    "print(b)"
   ]
  },
  {
   "cell_type": "markdown",
   "metadata": {},
   "source": [
    "torch的Tensor和numpy的array分享底层的内存地址，所以改变其中一个就会改变另一个。"
   ]
  },
  {
   "cell_type": "code",
   "execution_count": 11,
   "metadata": {},
   "outputs": [
    {
     "name": "stdout",
     "output_type": "stream",
     "text": [
      "[2. 2. 2. 2. 2.]\n",
      "\n",
      " 2\n",
      " 2\n",
      " 2\n",
      " 2\n",
      " 2\n",
      "[torch.DoubleTensor of size 5]\n",
      "\n"
     ]
    }
   ],
   "source": [
    "import numpy as np\n",
    "a=np.ones(5)\n",
    "b=torch.from_numpy(a)\n",
    "np.add(a,1,out=a)\n",
    "print(a)\n",
    "print(b)"
   ]
  },
  {
   "cell_type": "code",
   "execution_count": 10,
   "metadata": {},
   "outputs": [
    {
     "name": "stdout",
     "output_type": "stream",
     "text": [
      "torch is \n",
      "-0.9863  0.6846\n",
      " 0.8523  1.6950\n",
      "-0.3032  0.4702\n",
      "[torch.FloatTensor of size 3x2]\n",
      "\n",
      "numpy is [[-0.9863318   0.6846314 ]\n",
      " [ 0.85225064  1.6950094 ]\n",
      " [-0.30324295  0.47020766]]\n",
      "numpy is [[2 3]\n",
      " [4 5]]\n",
      "torch is \n",
      " 2  3\n",
      " 4  5\n",
      "[torch.LongTensor of size 2x2]\n",
      "\n",
      "float torch is \n",
      " 2  3\n",
      " 4  5\n",
      "[torch.FloatTensor of size 2x2]\n",
      "\n"
     ]
    }
   ],
   "source": [
    "import torch\n",
    "import numpy as np\n",
    "#from torch to numpy\n",
    "a=torch.randn((3,2))\n",
    "b=a.numpy()\n",
    "print('torch is {}'.format(a))\n",
    "print('numpy is {}'.format(b))\n",
    "#from numpy to torch\n",
    "c=np.array([[2,3],[4,5]])\n",
    "d=torch.from_numpy(c)\n",
    "print('numpy is {}'.format(c))\n",
    "print('torch is {}'.format(d))\n",
    "#change torch's type\n",
    "d_float=d.float()\n",
    "print('float torch is {}'.format(d_float))"
   ]
  },
  {
   "cell_type": "markdown",
   "metadata": {},
   "source": [
    "#### cuda tensors\n",
    "通过cuda，tensors可以被移动到gpu"
   ]
  },
  {
   "cell_type": "code",
   "execution_count": 14,
   "metadata": {},
   "outputs": [
    {
     "name": "stdout",
     "output_type": "stream",
     "text": [
      "\n",
      " 2  3\n",
      " 4  5\n",
      "[torch.cuda.FloatTensor of size 2x2 (GPU 0)]\n",
      "\n"
     ]
    }
   ],
   "source": [
    "x=torch.Tensor([[2,3],[4,5]])\n",
    "if torch.cuda.is_available():\n",
    "    x=x.cuda();\n",
    "print(x)"
   ]
  },
  {
   "cell_type": "markdown",
   "metadata": {},
   "source": [
    "## Summary\n",
    "配了几天终于把环境配好了，首先学习了pytorch的矩阵运算，以及和numpy之间的转换，个人感觉和numpy差不多。最后运行转换成cuda时遇到了问题`RuntimeError: cuda runtime error (8) : invalid device function at /opt/conda/conda-bld/pytorch_1518238409320/work/torch/lib/THC/generated/../generic/THCTensorMathPointwise.cu:301`打算明天再看了，虽然只尝试了一些很简单的sample，就当做对环境的测试吧:)"
   ]
  }
 ],
 "metadata": {
  "kernelspec": {
   "display_name": "Python 2",
   "language": "python",
   "name": "python2"
  },
  "language_info": {
   "codemirror_mode": {
    "name": "ipython",
    "version": 2
   },
   "file_extension": ".py",
   "mimetype": "text/x-python",
   "name": "python",
   "nbconvert_exporter": "python",
   "pygments_lexer": "ipython2",
   "version": "2.7.15"
  }
 },
 "nbformat": 4,
 "nbformat_minor": 2
}

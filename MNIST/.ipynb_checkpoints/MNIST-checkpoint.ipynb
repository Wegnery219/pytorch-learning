{
 "cells": [
  {
   "cell_type": "markdown",
   "metadata": {},
   "source": [
    "# MNIST手写数字分类\n",
    "二分类问题只需要确定一个值，多分类问题要确定每一个分支的可能概率，使用交叉熵函数确定误差（二分类中的loss），交叉熵的含义是用于度量两个分布之间的差异性，衡量模型能否识别的难度。\n",
    "交叉熵学习链接，[link](https://blog.csdn.net/rtygbwwwerr/article/details/50778098)"
   ]
  },
  {
   "cell_type": "code",
   "execution_count": 14,
   "metadata": {},
   "outputs": [],
   "source": [
    "import torch\n",
    "import numpy as np\n",
    "from torch import nn,optim\n",
    "from torch.autograd import Variable\n",
    "from torch.utils.data import DataLoader\n",
    "from torchvision import datasets,transforms\n",
    "from __future__ import division"
   ]
  },
  {
   "cell_type": "code",
   "execution_count": 16,
   "metadata": {},
   "outputs": [],
   "source": [
    "#定义简单三层全连接三层网络\n",
    "class simpleNet(nn.Module):\n",
    "    def __init__(self,in_dim,hidden1,hidden2,out_dim):\n",
    "        super(simpleNet,self).__init__()\n",
    "        self.layer1=nn.Sequential(\n",
    "            nn.Linear(in_dim,hidden1),nn.ReLU(True))\n",
    "        self.layer2=nn.Sequential(\n",
    "            nn.Linear(hidden1,hidden2),nn.ReLU(True))\n",
    "        self.layer3=nn.Sequential(\n",
    "            nn.Linear(hidden2,out_dim),nn.ReLU(True))\n",
    "        \n",
    "    def forward(self,x):\n",
    "        x=self.layer1(x)\n",
    "        x=self.layer2(x)\n",
    "        x=self.layer3(x)\n",
    "        return x    "
   ]
  },
  {
   "cell_type": "code",
   "execution_count": 17,
   "metadata": {},
   "outputs": [],
   "source": [
    "#预处理,Normalize是减均值然后除以方差,0.5为均值，0.5为方差，方框内的为均值方差\n",
    "#将图片转化为[-1,1]之间，如果是彩色图，有三通道，[a,b,c],[d,e,f]来表示每个通道的均值和方差\n",
    "data_tf=transforms.Compose(\n",
    "    [transforms.ToTensor(),\n",
    "    transforms.Normalize([0.5],[0.5])]\n",
    ")"
   ]
  },
  {
   "cell_type": "code",
   "execution_count": 18,
   "metadata": {},
   "outputs": [],
   "source": [
    "train_data=datasets.MNIST(root='./data',train=True,transform=data_tf,download=True)\n",
    "test_data=datasets.MNIST(root='./data',train=False,transform=data_tf,download=True)"
   ]
  },
  {
   "cell_type": "code",
   "execution_count": 19,
   "metadata": {},
   "outputs": [],
   "source": [
    "train_loader=DataLoader(train_data,batch_size=64,shuffle=True)\n",
    "test_loader=DataLoader(test_data,batch_size=64,shuffle=False)"
   ]
  },
  {
   "cell_type": "code",
   "execution_count": 20,
   "metadata": {},
   "outputs": [],
   "source": [
    "model=simpleNet(784,300,100,10)"
   ]
  },
  {
   "cell_type": "code",
   "execution_count": 21,
   "metadata": {},
   "outputs": [],
   "source": [
    "criterion=nn.CrossEntropyLoss()#交叉熵\n",
    "optimizer=optim.SGD(model.parameters(),lr=1e-2)"
   ]
  },
  {
   "cell_type": "code",
   "execution_count": 22,
   "metadata": {},
   "outputs": [],
   "source": [
    "for epoch in range(20):\n",
    "    for im,label in train_loader:\n",
    "#         if torch.cuda.is_available():\n",
    "#             im=Variable(im).cuda()\n",
    "#             label=Variable(label).cuda()\n",
    "#         else:\n",
    "        \n",
    "        im=im.view(im.size(0),-1)\n",
    "        im=Variable(im)\n",
    "        label=Variable(label)\n",
    "        out=model(im)#出现错误\n",
    "        #size mismatch at /opt/conda/conda-bld/pytorch_1518238409320/work/torch/lib/THC/generic/THCTensorMathBlas.cu:247\n",
    "\n",
    "        loss=criterion(out,label)\n",
    "        optimizer.zero_grad()\n",
    "        loss.backward()\n",
    "        optimizer.step()"
   ]
  },
  {
   "cell_type": "code",
   "execution_count": 23,
   "metadata": {},
   "outputs": [
    {
     "name": "stdout",
     "output_type": "stream",
     "text": [
      "Test loss:0.107665,Acc:0.968100\n"
     ]
    }
   ],
   "source": [
    "#开始测试\n",
    "model.eval()\n",
    "eval_loss=0\n",
    "eval_acc=0\n",
    "for data in test_loader:\n",
    "    img,label=data\n",
    "    img=img.view(img.size(0),-1)\n",
    "    img=Variable(img,volatile=True)#前向传播不缓存，因为测试不需要反向传播\n",
    "    label=Variable(label,volatile=True)\n",
    "    out=model(img)\n",
    "    loss=criterion(out,label)\n",
    "    eval_loss+=loss.data[0]*label.size(0)\n",
    "    _,pred=torch.max(out,1)\n",
    "    num_correct=(pred==label).sum()\n",
    "    eval_acc+=num_correct.data[0]\n",
    "print('Test loss:{:.6f},Acc:{:.6f}'.format(\n",
    "    eval_loss/(len(test_data)),\n",
    "    eval_acc/(len(test_data))))"
   ]
  },
  {
   "cell_type": "markdown",
   "metadata": {},
   "source": [
    "使用简单三层全连接神经网络结果：\n",
    "\n",
    "Test loss:0.272429,Acc:0.921900\n",
    "\n",
    "用到nn.Sequential()添加激活函数后的结果：\n",
    "\n",
    "Test loss:0.107665,Acc:0.968100"
   ]
  }
 ],
 "metadata": {
  "kernelspec": {
   "display_name": "Python 2",
   "language": "python",
   "name": "python2"
  },
  "language_info": {
   "codemirror_mode": {
    "name": "ipython",
    "version": 2
   },
   "file_extension": ".py",
   "mimetype": "text/x-python",
   "name": "python",
   "nbconvert_exporter": "python",
   "pygments_lexer": "ipython2",
   "version": "2.7.15"
  }
 },
 "nbformat": 4,
 "nbformat_minor": 2
}

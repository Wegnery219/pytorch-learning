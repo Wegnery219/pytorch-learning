{
 "cells": [
  {
   "cell_type": "markdown",
   "metadata": {},
   "source": [
    "# LeNet"
   ]
  },
  {
   "cell_type": "code",
   "execution_count": 1,
   "metadata": {},
   "outputs": [],
   "source": [
    "import torch\n",
    "from torch import nn\n",
    "import numpy as np"
   ]
  },
  {
   "cell_type": "code",
   "execution_count": 2,
   "metadata": {},
   "outputs": [],
   "source": [
    "class Lenet(nn.Module):\n",
    "    def __init__(self):\n",
    "        super(Lenet,self).__init__()#输入尺寸为32×32×1\n",
    "        \n",
    "        layer1=nn.Sequential()\n",
    "        layer1.add_module('conv1',nn.Conv2d(1,6,5,1,padding=0))#in_channels=1,out_channels=6,尺寸是5\n",
    "        #28×28×6\n",
    "        layer1.add_module('pool1',nn.MaxPool2d(2,2))\n",
    "        #14×14×6\n",
    "        self.layer1=layer1\n",
    "        \n",
    "        layer2=nn.Sequential()\n",
    "        layer2.add_module('conv2',nn.Conv2d(6,16,5,1,padding=0))\n",
    "        #10×10×16\n",
    "        layer2.add_module('pool2',nn.MaxPool2d(2,2))\n",
    "        #5*5*16=400\n",
    "        self.layer2=layer2\n",
    "        \n",
    "        layer3=nn.Sequential()\n",
    "        layer3.add_module('fc1',nn.Linear(400,120))\n",
    "        layer3.add_module('fc2',nn.Linear(120,84))\n",
    "        layer3.add_module('fc3',nn.Linear(84,10))\n",
    "        self.layer3=layer3\n",
    "        \n",
    "    def forward(self,x):\n",
    "        x=self.layer1(x)\n",
    "        x=self.layer2(x)\n",
    "        x=x.view(x.size(0),-1)\n",
    "        x=self.layer3(x)\n",
    "        return x"
   ]
  },
  {
   "cell_type": "markdown",
   "metadata": {},
   "source": [
    "lenet网络的层数很浅，也没有添加激活层。"
   ]
  }
 ],
 "metadata": {
  "kernelspec": {
   "display_name": "Python 2",
   "language": "python",
   "name": "python2"
  },
  "language_info": {
   "codemirror_mode": {
    "name": "ipython",
    "version": 2
   },
   "file_extension": ".py",
   "mimetype": "text/x-python",
   "name": "python",
   "nbconvert_exporter": "python",
   "pygments_lexer": "ipython2",
   "version": "2.7.15"
  }
 },
 "nbformat": 4,
 "nbformat_minor": 2
}

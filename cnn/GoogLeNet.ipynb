{
 "cells": [
  {
   "cell_type": "markdown",
   "metadata": {},
   "source": [
    "# GoogLeNet\n",
    "AlexNet,VGG层数过多，会引起梯度下降等一些问题，googlenet采用了inception模块，也没有全连接层，inception模块先进性1×1的卷积，在进行3×3的卷积，这样可以降低计算量，使网络参数减少，从而减少网络复杂性，同时组合出更多的非线性特征。inception模块在多个尺寸上进行卷积再聚合，使最后提取到的特征更准确。GoogleNet学习参考链接：[深入理解GoogLeNet](https://blog.csdn.net/docrazy5351/article/details/78993269)"
   ]
  },
  {
   "cell_type": "code",
   "execution_count": 2,
   "metadata": {},
   "outputs": [],
   "source": [
    "import torch\n",
    "from torch import nn\n",
    "from torch.nn import functional as F"
   ]
  },
  {
   "cell_type": "code",
   "execution_count": 3,
   "metadata": {},
   "outputs": [],
   "source": [
    "class BasicConv2d(nn.Module):\n",
    "    def __init__(self,in_channel,out_channel,**kwargs):\n",
    "        super(BasicConv2d,self).__init__()\n",
    "        self.conv=nn.Conv2d(in_channel,out_channel,bias=False,**kwargs)\n",
    "        self.bn=nn.BatchNorm2d(out_channel,eps=0.01)#标准化\n",
    "        \n",
    "    def forward(self,x):\n",
    "        x=self.conv(x)\n",
    "        x=self.bn(x)\n",
    "        return F.relu(x,inplace=True)"
   ]
  },
  {
   "cell_type": "code",
   "execution_count": 4,
   "metadata": {},
   "outputs": [],
   "source": [
    "#整个Googlenet主要是由以下inceptiom模块定义的\n",
    "class Inception(nn.Module):\n",
    "    def __init__(self,in_channel,pool_features):\n",
    "        super(Inceptiom,self).__init__()\n",
    "        self.branch1x1=BasicConv2d(in_channel,64,kernel_size=1)\n",
    "        \n",
    "        self.branch5x5_1=BasicConv2d(in_channel,48,kernel_size=1)#先1X1 再5x5\n",
    "        self.branch5x5_2=BasicConv2d(48,64,kernel_size=5,padding=2)\n",
    "        \n",
    "        self.branch3x3_1=BasicConv2d(in_channel,64,kernel_size=1)\n",
    "        self.branch3x3_2=BasicConv2d(64,96,kernel_size=3,padding=1)\n",
    "        self.branch3x3_3=BasicConv2d(96,96,kernel_size=3,padding=1)#?\n",
    "        \n",
    "        self.branch_pool=BasicConv2d(in_channel,pool_features,kernel_size=1)\n",
    "        \n",
    "    def forward(self,x):\n",
    "        branch1x1=self.branch1x1(x)\n",
    "        \n",
    "        branch5x5=self.branch5x5_1(x)\n",
    "        branch5x5=self.branch5x5_2(branch5x5)\n",
    "        \n",
    "        branch3x3=self.branch3x3_1(x)\n",
    "        branch3x3=self.branch3x3_2(branch3x3)\n",
    "        branch3x3=self.branch3x3_3(branch3x3)\n",
    "        \n",
    "        branch_pool=F.avg_pool2d(x,kernel_size=3,stride=1,padding=1)#?\n",
    "        branch_pool=self.branch_pool(branch_pool)\n",
    "        \n",
    "        outputs=[branch1x1,branch5x5,branch3x3,branch_pool]\n",
    "        return torch.cat(outputs,1)"
   ]
  },
  {
   "cell_type": "markdown",
   "metadata": {},
   "source": [
    "依次定义1x1,3x3,5x5,和pool,最后用torch.cat按深度拼接，得到输出结果。"
   ]
  }
 ],
 "metadata": {
  "kernelspec": {
   "display_name": "Python 2",
   "language": "python",
   "name": "python2"
  },
  "language_info": {
   "codemirror_mode": {
    "name": "ipython",
    "version": 2
   },
   "file_extension": ".py",
   "mimetype": "text/x-python",
   "name": "python",
   "nbconvert_exporter": "python",
   "pygments_lexer": "ipython2",
   "version": "2.7.15"
  }
 },
 "nbformat": 4,
 "nbformat_minor": 2
}
